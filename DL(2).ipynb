{
  "cells": [
    {
      "cell_type": "markdown",
      "metadata": {
        "id": "view-in-github",
        "colab_type": "text"
      },
      "source": [
        "<a href=\"https://colab.research.google.com/github/SRK1403k/1234/blob/main/DL(2).ipynb\" target=\"_parent\"><img src=\"https://colab.research.google.com/assets/colab-badge.svg\" alt=\"Open In Colab\"/></a>"
      ]
    },
    {
      "cell_type": "code",
      "execution_count": null,
      "id": "34441bbb-9816-4e68-9271-de8456ca7c50",
      "metadata": {
        "id": "34441bbb-9816-4e68-9271-de8456ca7c50"
      },
      "outputs": [],
      "source": [
        " import numpy as np\n",
        " import matplotlib.pyplot as plt"
      ]
    },
    {
      "cell_type": "markdown",
      "source": [],
      "metadata": {
        "id": "PP7pKRDQgON1"
      },
      "id": "PP7pKRDQgON1"
    },
    {
      "cell_type": "code",
      "execution_count": null,
      "id": "4667c029-4d40-472d-a867-f1ff1485f0f8",
      "metadata": {
        "id": "4667c029-4d40-472d-a867-f1ff1485f0f8"
      },
      "outputs": [],
      "source": [
        " from tensorflow.keras.datasets import mnist\n",
        " from tensorflow.keras.optimizers import SGD"
      ]
    },
    {
      "cell_type": "code",
      "execution_count": null,
      "id": "45441c0c-9e50-479c-a39f-9631c9d93ce3",
      "metadata": {
        "id": "45441c0c-9e50-479c-a39f-9631c9d93ce3",
        "outputId": "986e536f-c10f-4580-eb0b-4725b71a3929"
      },
      "outputs": [
        {
          "name": "stdout",
          "output_type": "stream",
          "text": [
            "Downloading data from https://storage.googleapis.com/tensorflow/tf-keras-datasets/mnist.npz\n",
            "\u001b[1m11490434/11490434\u001b[0m \u001b[32m━━━━━━━━━━━━━━━━━━━━\u001b[0m\u001b[37m\u001b[0m \u001b[1m79s\u001b[0m 7us/step\n"
          ]
        }
      ],
      "source": [
        " (x_train, y_train), (x_test, y_test) = mnist.load_data()\n"
      ]
    },
    {
      "cell_type": "code",
      "execution_count": null,
      "id": "f911d1da-0adc-4303-a8f8-aa9a52643465",
      "metadata": {
        "id": "f911d1da-0adc-4303-a8f8-aa9a52643465",
        "outputId": "f5b456b4-4cfd-4dec-f6a1-daeb0209e738"
      },
      "outputs": [
        {
          "data": {
            "text/plain": [
              "(60000, 28, 28)"
            ]
          },
          "execution_count": 4,
          "metadata": {},
          "output_type": "execute_result"
        }
      ],
      "source": [
        "x_train.shape"
      ]
    },
    {
      "cell_type": "code",
      "execution_count": null,
      "id": "d8d4d456-5788-4c8e-a40e-5a9f23a42938",
      "metadata": {
        "id": "d8d4d456-5788-4c8e-a40e-5a9f23a42938",
        "outputId": "2f0381f1-31d5-44f6-a2b0-0091e3de77f2"
      },
      "outputs": [
        {
          "data": {
            "text/plain": [
              "(10000, 28, 28)"
            ]
          },
          "execution_count": 5,
          "metadata": {},
          "output_type": "execute_result"
        }
      ],
      "source": [
        "x_test.shape"
      ]
    },
    {
      "cell_type": "code",
      "execution_count": null,
      "id": "e119fc44-ddec-4309-94ff-e1c0863591e2",
      "metadata": {
        "id": "e119fc44-ddec-4309-94ff-e1c0863591e2",
        "outputId": "8017204d-3da3-433e-daa5-b1952214e5b7"
      },
      "outputs": [
        {
          "data": {
            "text/plain": [
              "<matplotlib.image.AxesImage at 0x13a7b519a60>"
            ]
          },
          "execution_count": 19,
          "metadata": {},
          "output_type": "execute_result"
        },
        {
          "data": {
            "image/png": "[encoded data removed]",
            "text/plain": [
              "<Figure size 640x480 with 1 Axes>"
            ]
          },
          "metadata": {},
          "output_type": "display_data"
        }
      ],
      "source": [
        "plt.subplot(221)\n",
        "plt.title(y_train[0])\n",
        "plt.imshow(x_train[0], cmap=plt.get_cmap('gray'))\n",
        "#\n",
        "#\n",
        "#\n"
      ]
    },
    {
      "cell_type": "code",
      "execution_count": null,
      "id": "b41fecee-f109-4c62-9fbd-8fcb0000cdbe",
      "metadata": {
        "id": "b41fecee-f109-4c62-9fbd-8fcb0000cdbe",
        "outputId": "727bed53-bef9-466e-bf5d-cf1b9dede0d2"
      },
      "outputs": [
        {
          "data": {
            "text/plain": [
              "<matplotlib.image.AxesImage at 0x13a7c7b27b0>"
            ]
          },
          "execution_count": 23,
          "metadata": {},
          "output_type": "execute_result"
        },
        {
          "data": {
            "image/png": "[encoded data removed]",
            "text/plain": [
              "<Figure size 640x480 with 1 Axes>"
            ]
          },
          "metadata": {},
          "output_type": "display_data"
        }
      ],
      "source": [
        "plt.subplot(222)\n",
        "plt.title(y_train[1])\n",
        "plt.imshow(x_train[1], cmap=plt.get_cmap('gray'))"
      ]
    },
    {
      "cell_type": "code",
      "execution_count": null,
      "id": "2b148975-484f-49dc-8905-77838befec16",
      "metadata": {
        "id": "2b148975-484f-49dc-8905-77838befec16",
        "outputId": "6c62abec-41b7-4457-ff0b-d8e37d9b2caa"
      },
      "outputs": [
        {
          "data": {
            "text/plain": [
              "<matplotlib.image.AxesImage at 0x13a7b4c8290>"
            ]
          },
          "execution_count": 18,
          "metadata": {},
          "output_type": "execute_result"
        },
        {
          "data": {
            "image/png": "[encoded data removed]",
            "text/plain": [
              "<Figure size 640x480 with 1 Axes>"
            ]
          },
          "metadata": {},
          "output_type": "display_data"
        }
      ],
      "source": [
        "plt.subplot(223)\n",
        "plt.title(y_train[2])\n",
        "plt.imshow(x_train[2], cmap=plt.get_cmap('gray'))"
      ]
    },
    {
      "cell_type": "code",
      "execution_count": null,
      "id": "6ca2acc5-6319-4b82-8d8c-094566333abe",
      "metadata": {
        "id": "6ca2acc5-6319-4b82-8d8c-094566333abe",
        "outputId": "d881587a-a6a7-4338-c828-f4fb8d558286"
      },
      "outputs": [
        {
          "data": {
            "text/plain": [
              "<matplotlib.image.AxesImage at 0x13a7c5ba1b0>"
            ]
          },
          "execution_count": 21,
          "metadata": {},
          "output_type": "execute_result"
        },
        {
          "data": {
            "image/png": "[encoded data removed]",
            "text/plain": [
              "<Figure size 640x480 with 1 Axes>"
            ]
          },
          "metadata": {},
          "output_type": "display_data"
        }
      ],
      "source": [
        "plt.subplot(224)\n",
        "plt.title(y_train[3])\n",
        "plt.imshow(x_train[3], cmap=plt.get_cmap('gray'))"
      ]
    },
    {
      "cell_type": "code",
      "execution_count": null,
      "id": "53d1a0e7-d67a-44a6-baf7-1c9f66ff6e23",
      "metadata": {
        "id": "53d1a0e7-d67a-44a6-baf7-1c9f66ff6e23"
      },
      "outputs": [],
      "source": [
        "num_pixels = x_train.shape[1]*x_train.shape[2]"
      ]
    },
    {
      "cell_type": "code",
      "execution_count": null,
      "id": "4298fa91-aa2a-4512-91f2-b3c9cfe3f1bb",
      "metadata": {
        "id": "4298fa91-aa2a-4512-91f2-b3c9cfe3f1bb",
        "outputId": "2c9e0249-c154-4ffe-cf51-4a4a00c774e8"
      },
      "outputs": [
        {
          "data": {
            "text/plain": [
              "784"
            ]
          },
          "execution_count": 28,
          "metadata": {},
          "output_type": "execute_result"
        }
      ],
      "source": [
        "num_pixels"
      ]
    },
    {
      "cell_type": "code",
      "execution_count": null,
      "id": "ee8c05b4-d2ec-4304-84d0-48150860f52a",
      "metadata": {
        "id": "ee8c05b4-d2ec-4304-84d0-48150860f52a"
      },
      "outputs": [],
      "source": [
        "x_train = x_train.reshape(x_train.shape[0], num_pixels).astype(float)\n",
        "x_test = x_test.reshape(x_test.shape[0], num_pixels).astype(float)"
      ]
    },
    {
      "cell_type": "code",
      "execution_count": null,
      "id": "4fc70af7-676a-4d1a-a019-cc4f30be2345",
      "metadata": {
        "id": "4fc70af7-676a-4d1a-a019-cc4f30be2345",
        "outputId": "c92412fd-7679-4cdb-96ff-99fe313e5e10"
      },
      "outputs": [
        {
          "data": {
            "text/plain": [
              "(60000, 784)"
            ]
          },
          "execution_count": 30,
          "metadata": {},
          "output_type": "execute_result"
        }
      ],
      "source": [
        "x_train.shape"
      ]
    },
    {
      "cell_type": "code",
      "execution_count": null,
      "id": "a67a1ae3-907e-4d48-b72a-c7fa506d1252",
      "metadata": {
        "id": "a67a1ae3-907e-4d48-b72a-c7fa506d1252",
        "outputId": "5adf948a-e0ee-49a1-a0bb-2152e7d56c0e"
      },
      "outputs": [
        {
          "data": {
            "text/plain": [
              "(10000, 784)"
            ]
          },
          "execution_count": 31,
          "metadata": {},
          "output_type": "execute_result"
        }
      ],
      "source": [
        "x_test.shape"
      ]
    },
    {
      "cell_type": "code",
      "execution_count": null,
      "id": "e13503d2-bc69-4222-9312-6b4be9b9e86e",
      "metadata": {
        "id": "e13503d2-bc69-4222-9312-6b4be9b9e86e"
      },
      "outputs": [],
      "source": [
        "# normalize the data\n",
        "x_train = x_train / 255\n",
        "x_test = x_test / 255\n"
      ]
    },
    {
      "cell_type": "code",
      "execution_count": null,
      "id": "b03f1d2c-c63b-4284-b9fb-f77c36cb8fdb",
      "metadata": {
        "id": "b03f1d2c-c63b-4284-b9fb-f77c36cb8fdb",
        "outputId": "f9f13a34-5d21-4d90-f496-12474d1ab46e"
      },
      "outputs": [
        {
          "data": {
            "text/plain": [
              "array([[0., 0., 0., ..., 0., 0., 0.],\n",
              "       [0., 0., 0., ..., 0., 0., 0.],\n",
              "       [0., 0., 0., ..., 0., 0., 0.],\n",
              "       ...,\n",
              "       [0., 0., 0., ..., 0., 0., 0.],\n",
              "       [0., 0., 0., ..., 0., 0., 0.],\n",
              "       [0., 0., 0., ..., 0., 0., 0.]])"
            ]
          },
          "execution_count": 34,
          "metadata": {},
          "output_type": "execute_result"
        }
      ],
      "source": [
        "x_train"
      ]
    },
    {
      "cell_type": "code",
      "execution_count": null,
      "id": "e911350a-2eca-4de1-a76e-4bb2c0e34880",
      "metadata": {
        "id": "e911350a-2eca-4de1-a76e-4bb2c0e34880"
      },
      "outputs": [],
      "source": [
        " from tensorflow.keras.utils import to_categorical\n",
        " from tensorflow.keras.layers import Dense\n",
        " from tensorflow.keras.models import Sequential"
      ]
    },
    {
      "cell_type": "code",
      "execution_count": null,
      "id": "befb686d-8de4-42e0-98d3-897ddd0632cf",
      "metadata": {
        "id": "befb686d-8de4-42e0-98d3-897ddd0632cf"
      },
      "outputs": [],
      "source": [
        " y_train = to_categorical(y_train)\n",
        " y_test = to_categorical(y_test)"
      ]
    },
    {
      "cell_type": "code",
      "execution_count": null,
      "id": "08888fa0-01e0-41b1-94d5-198a24ba891e",
      "metadata": {
        "id": "08888fa0-01e0-41b1-94d5-198a24ba891e",
        "outputId": "881a950b-3ccd-4e32-96dd-88562c65f805"
      },
      "outputs": [
        {
          "data": {
            "text/plain": [
              "(60000, 10)"
            ]
          },
          "execution_count": 37,
          "metadata": {},
          "output_type": "execute_result"
        }
      ],
      "source": [
        "y_train.shape"
      ]
    },
    {
      "cell_type": "code",
      "execution_count": null,
      "id": "bb9281ed-08fc-4461-952d-969bfc7763bb",
      "metadata": {
        "id": "bb9281ed-08fc-4461-952d-969bfc7763bb"
      },
      "outputs": [],
      "source": [
        "def create_model():\n",
        "    model = Sequential()\n",
        "    model.add(Dense(num_pixels, input_dim=num_pixels,activation= 'relu' ))\n",
        "    model.add(Dense(10, activation= 'softmax' ))\n",
        "    model.compile(loss= 'categorical_crossentropy' , optimizer= SGD(), metrics=[ 'accuracy' ])\n",
        "    return model"
      ]
    },
    {
      "cell_type": "code",
      "execution_count": null,
      "id": "82303374-14be-4fd5-8a6b-b4c08c4754bf",
      "metadata": {
        "id": "82303374-14be-4fd5-8a6b-b4c08c4754bf",
        "outputId": "1111bf64-6185-449e-9088-81e3693a5b0e"
      },
      "outputs": [
        {
          "name": "stderr",
          "output_type": "stream",
          "text": [
            "C:\\Users\\param\\AppData\\Local\\Programs\\Python\\Python312\\Lib\\site-packages\\keras\\src\\layers\\core\\dense.py:87: UserWarning: Do not pass an `input_shape`/`input_dim` argument to a layer. When using Sequential models, prefer using an `Input(shape)` object as the first layer in the model instead.\n",
            "  super().__init__(activity_regularizer=activity_regularizer, **kwargs)\n"
          ]
        },
        {
          "name": "stdout",
          "output_type": "stream",
          "text": [
            "Epoch 1/10\n",
            "\u001b[1m300/300\u001b[0m \u001b[32m━━━━━━━━━━━━━━━━━━━━\u001b[0m\u001b[37m\u001b[0m \u001b[1m2s\u001b[0m 3ms/step - accuracy: 0.5833 - loss: 1.6688 - val_accuracy: 0.8550 - val_loss: 0.7403\n",
            "Epoch 2/10\n",
            "\u001b[1m300/300\u001b[0m \u001b[32m━━━━━━━━━━━━━━━━━━━━\u001b[0m\u001b[37m\u001b[0m \u001b[1m1s\u001b[0m 3ms/step - accuracy: 0.8531 - loss: 0.6913 - val_accuracy: 0.8834 - val_loss: 0.5107\n",
            "Epoch 3/10\n",
            "\u001b[1m300/300\u001b[0m \u001b[32m━━━━━━━━━━━━━━━━━━━━\u001b[0m\u001b[37m\u001b[0m \u001b[1m1s\u001b[0m 4ms/step - accuracy: 0.8792 - loss: 0.5073 - val_accuracy: 0.8940 - val_loss: 0.4300\n",
            "Epoch 4/10\n",
            "\u001b[1m300/300\u001b[0m \u001b[32m━━━━━━━━━━━━━━━━━━━━\u001b[0m\u001b[37m\u001b[0m \u001b[1m3s\u001b[0m 9ms/step - accuracy: 0.8893 - loss: 0.4354 - val_accuracy: 0.9024 - val_loss: 0.3866\n",
            "Epoch 5/10\n",
            "\u001b[1m300/300\u001b[0m \u001b[32m━━━━━━━━━━━━━━━━━━━━\u001b[0m\u001b[37m\u001b[0m \u001b[1m3s\u001b[0m 9ms/step - accuracy: 0.8981 - loss: 0.3932 - val_accuracy: 0.9059 - val_loss: 0.3591\n",
            "Epoch 6/10\n",
            "\u001b[1m300/300\u001b[0m \u001b[32m━━━━━━━━━━━━━━━━━━━━\u001b[0m\u001b[37m\u001b[0m \u001b[1m3s\u001b[0m 9ms/step - accuracy: 0.9022 - loss: 0.3669 - val_accuracy: 0.9109 - val_loss: 0.3397\n",
            "Epoch 7/10\n",
            "\u001b[1m300/300\u001b[0m \u001b[32m━━━━━━━━━━━━━━━━━━━━\u001b[0m\u001b[37m\u001b[0m \u001b[1m3s\u001b[0m 9ms/step - accuracy: 0.9028 - loss: 0.3577 - val_accuracy: 0.9123 - val_loss: 0.3253\n",
            "Epoch 8/10\n",
            "\u001b[1m300/300\u001b[0m \u001b[32m━━━━━━━━━━━━━━━━━━━━\u001b[0m\u001b[37m\u001b[0m \u001b[1m3s\u001b[0m 9ms/step - accuracy: 0.9078 - loss: 0.3350 - val_accuracy: 0.9150 - val_loss: 0.3136\n",
            "Epoch 9/10\n",
            "\u001b[1m300/300\u001b[0m \u001b[32m━━━━━━━━━━━━━━━━━━━━\u001b[0m\u001b[37m\u001b[0m \u001b[1m3s\u001b[0m 8ms/step - accuracy: 0.9130 - loss: 0.3200 - val_accuracy: 0.9167 - val_loss: 0.3040\n",
            "Epoch 10/10\n",
            "\u001b[1m300/300\u001b[0m \u001b[32m━━━━━━━━━━━━━━━━━━━━\u001b[0m\u001b[37m\u001b[0m \u001b[1m3s\u001b[0m 9ms/step - accuracy: 0.9144 - loss: 0.3117 - val_accuracy: 0.9199 - val_loss: 0.2948\n"
          ]
        },
        {
          "data": {
            "text/plain": [
              "<keras.src.callbacks.history.History at 0x13a7c64c8c0>"
            ]
          },
          "execution_count": 50,
          "metadata": {},
          "output_type": "execute_result"
        }
      ],
      "source": [
        "model = create_model()\n",
        "model.fit(x_train, y_train, validation_data=(x_test, y_test),epochs=10, batch_size = 200)"
      ]
    },
    {
      "cell_type": "code",
      "execution_count": null,
      "id": "333ce4af-f8e0-40ae-a8e9-91ae53c2facb",
      "metadata": {
        "id": "333ce4af-f8e0-40ae-a8e9-91ae53c2facb",
        "outputId": "7fe16bcd-f729-4477-dff7-113ed8cab5eb"
      },
      "outputs": [
        {
          "name": "stdout",
          "output_type": "stream",
          "text": [
            "\u001b[1m10000/10000\u001b[0m \u001b[32m━━━━━━━━━━━━━━━━━━━━\u001b[0m\u001b[37m\u001b[0m \u001b[1m21s\u001b[0m 2ms/step - accuracy: 0.9059 - loss: 0.3404\n"
          ]
        },
        {
          "data": {
            "text/plain": [
              "[0.2948358356952667, 0.9199000000953674]"
            ]
          },
          "execution_count": 51,
          "metadata": {},
          "output_type": "execute_result"
        }
      ],
      "source": [
        " model.evaluate(x_test, y_test, batch_size=1)"
      ]
    },
    {
      "cell_type": "code",
      "execution_count": null,
      "id": "d2417501-681b-47d3-991b-0b451d44b074",
      "metadata": {
        "id": "d2417501-681b-47d3-991b-0b451d44b074",
        "outputId": "f269f505-4667-42ee-d9d5-f4e64c8b4e90"
      },
      "outputs": [
        {
          "data": {
            "text/html": [
              "<pre style=\"white-space:pre;overflow-x:auto;line-height:normal;font-family:Menlo,'DejaVu Sans Mono',consolas,'Courier New',monospace\"><span style=\"font-weight: bold\">Model: \"sequential\"</span>\n",
              "</pre>\n"
            ],
            "text/plain": [
              "\u001b[1mModel: \"sequential\"\u001b[0m\n"
            ]
          },
          "metadata": {},
          "output_type": "display_data"
        },
        {
          "data": {
            "text/html": [
              "<pre style=\"white-space:pre;overflow-x:auto;line-height:normal;font-family:Menlo,'DejaVu Sans Mono',consolas,'Courier New',monospace\">┏━━━━━━━━━━━━━━━━━━━━━━━━━━━━━━━━━━━━━━┳━━━━━━━━━━━━━━━━━━━━━━━━━━━━━┳━━━━━━━━━━━━━━━━━┓\n",
              "┃<span style=\"font-weight: bold\"> Layer (type)                         </span>┃<span style=\"font-weight: bold\"> Output Shape                </span>┃<span style=\"font-weight: bold\">         Param # </span>┃\n",
              "┡━━━━━━━━━━━━━━━━━━━━━━━━━━━━━━━━━━━━━━╇━━━━━━━━━━━━━━━━━━━━━━━━━━━━━╇━━━━━━━━━━━━━━━━━┩\n",
              "│ dense (<span style=\"color: #0087ff; text-decoration-color: #0087ff\">Dense</span>)                        │ (<span style=\"color: #00d7ff; text-decoration-color: #00d7ff\">None</span>, <span style=\"color: #00af00; text-decoration-color: #00af00\">784</span>)                 │         <span style=\"color: #00af00; text-decoration-color: #00af00\">615,440</span> │\n",
              "├──────────────────────────────────────┼─────────────────────────────┼─────────────────┤\n",
              "│ dense_1 (<span style=\"color: #0087ff; text-decoration-color: #0087ff\">Dense</span>)                      │ (<span style=\"color: #00d7ff; text-decoration-color: #00d7ff\">None</span>, <span style=\"color: #00af00; text-decoration-color: #00af00\">10</span>)                  │           <span style=\"color: #00af00; text-decoration-color: #00af00\">7,850</span> │\n",
              "└──────────────────────────────────────┴─────────────────────────────┴─────────────────┘\n",
              "</pre>\n"
            ],
            "text/plain": [
              "┏━━━━━━━━━━━━━━━━━━━━━━━━━━━━━━━━━━━━━━┳━━━━━━━━━━━━━━━━━━━━━━━━━━━━━┳━━━━━━━━━━━━━━━━━┓\n",
              "┃\u001b[1m \u001b[0m\u001b[1mLayer (type)                        \u001b[0m\u001b[1m \u001b[0m┃\u001b[1m \u001b[0m\u001b[1mOutput Shape               \u001b[0m\u001b[1m \u001b[0m┃\u001b[1m \u001b[0m\u001b[1m        Param #\u001b[0m\u001b[1m \u001b[0m┃\n",
              "┡━━━━━━━━━━━━━━━━━━━━━━━━━━━━━━━━━━━━━━╇━━━━━━━━━━━━━━━━━━━━━━━━━━━━━╇━━━━━━━━━━━━━━━━━┩\n",
              "│ dense (\u001b[38;5;33mDense\u001b[0m)                        │ (\u001b[38;5;45mNone\u001b[0m, \u001b[38;5;34m784\u001b[0m)                 │         \u001b[38;5;34m615,440\u001b[0m │\n",
              "├──────────────────────────────────────┼─────────────────────────────┼─────────────────┤\n",
              "│ dense_1 (\u001b[38;5;33mDense\u001b[0m)                      │ (\u001b[38;5;45mNone\u001b[0m, \u001b[38;5;34m10\u001b[0m)                  │           \u001b[38;5;34m7,850\u001b[0m │\n",
              "└──────────────────────────────────────┴─────────────────────────────┴─────────────────┘\n"
            ]
          },
          "metadata": {},
          "output_type": "display_data"
        },
        {
          "data": {
            "text/html": [
              "<pre style=\"white-space:pre;overflow-x:auto;line-height:normal;font-family:Menlo,'DejaVu Sans Mono',consolas,'Courier New',monospace\"><span style=\"font-weight: bold\"> Total params: </span><span style=\"color: #00af00; text-decoration-color: #00af00\">623,292</span> (2.38 MB)\n",
              "</pre>\n"
            ],
            "text/plain": [
              "\u001b[1m Total params: \u001b[0m\u001b[38;5;34m623,292\u001b[0m (2.38 MB)\n"
            ]
          },
          "metadata": {},
          "output_type": "display_data"
        },
        {
          "data": {
            "text/html": [
              "<pre style=\"white-space:pre;overflow-x:auto;line-height:normal;font-family:Menlo,'DejaVu Sans Mono',consolas,'Courier New',monospace\"><span style=\"font-weight: bold\"> Trainable params: </span><span style=\"color: #00af00; text-decoration-color: #00af00\">623,290</span> (2.38 MB)\n",
              "</pre>\n"
            ],
            "text/plain": [
              "\u001b[1m Trainable params: \u001b[0m\u001b[38;5;34m623,290\u001b[0m (2.38 MB)\n"
            ]
          },
          "metadata": {},
          "output_type": "display_data"
        },
        {
          "data": {
            "text/html": [
              "<pre style=\"white-space:pre;overflow-x:auto;line-height:normal;font-family:Menlo,'DejaVu Sans Mono',consolas,'Courier New',monospace\"><span style=\"font-weight: bold\"> Non-trainable params: </span><span style=\"color: #00af00; text-decoration-color: #00af00\">0</span> (0.00 B)\n",
              "</pre>\n"
            ],
            "text/plain": [
              "\u001b[1m Non-trainable params: \u001b[0m\u001b[38;5;34m0\u001b[0m (0.00 B)\n"
            ]
          },
          "metadata": {},
          "output_type": "display_data"
        },
        {
          "data": {
            "text/html": [
              "<pre style=\"white-space:pre;overflow-x:auto;line-height:normal;font-family:Menlo,'DejaVu Sans Mono',consolas,'Courier New',monospace\"><span style=\"font-weight: bold\"> Optimizer params: </span><span style=\"color: #00af00; text-decoration-color: #00af00\">2</span> (12.00 B)\n",
              "</pre>\n"
            ],
            "text/plain": [
              "\u001b[1m Optimizer params: \u001b[0m\u001b[38;5;34m2\u001b[0m (12.00 B)\n"
            ]
          },
          "metadata": {},
          "output_type": "display_data"
        }
      ],
      "source": [
        "#[0.2900576591491699, 0.9204999804496765]\n",
        "model.summary()"
      ]
    },
    {
      "cell_type": "code",
      "execution_count": null,
      "id": "5e8c2df6-9dd6-4eed-a466-ffcee0e53be2",
      "metadata": {
        "id": "5e8c2df6-9dd6-4eed-a466-ffcee0e53be2"
      },
      "outputs": [],
      "source": [
        " new=x_test[45]"
      ]
    },
    {
      "cell_type": "code",
      "execution_count": null,
      "id": "05762c72-7971-4ef8-b26f-eb7ebd585e9f",
      "metadata": {
        "id": "05762c72-7971-4ef8-b26f-eb7ebd585e9f"
      },
      "outputs": [],
      "source": [
        " new=new.reshape(1,-1)\n"
      ]
    },
    {
      "cell_type": "code",
      "execution_count": null,
      "id": "5777a544-bbeb-49a1-b861-94cda3bfe481",
      "metadata": {
        "id": "5777a544-bbeb-49a1-b861-94cda3bfe481",
        "outputId": "589a2a59-11cc-4f53-d883-bb298dfd07d9"
      },
      "outputs": [
        {
          "data": {
            "text/plain": [
              "(60000, 784)"
            ]
          },
          "execution_count": 56,
          "metadata": {},
          "output_type": "execute_result"
        }
      ],
      "source": [
        " x_train.shape"
      ]
    },
    {
      "cell_type": "code",
      "execution_count": null,
      "id": "01f5070b-4f7f-4123-b9c3-382b586e9229",
      "metadata": {
        "id": "01f5070b-4f7f-4123-b9c3-382b586e9229",
        "outputId": "766d5edf-e761-4e82-83f7-f7cd1f6f4089"
      },
      "outputs": [
        {
          "data": {
            "text/plain": [
              "(1, 784)"
            ]
          },
          "execution_count": 57,
          "metadata": {},
          "output_type": "execute_result"
        }
      ],
      "source": [
        " new.shape\n"
      ]
    },
    {
      "cell_type": "code",
      "execution_count": null,
      "id": "5683ce28-386b-4829-9679-20a3a2b90ea9",
      "metadata": {
        "id": "5683ce28-386b-4829-9679-20a3a2b90ea9",
        "outputId": "535ed831-23f3-4058-b9eb-ac23d0e0253c"
      },
      "outputs": [
        {
          "name": "stdout",
          "output_type": "stream",
          "text": [
            "\u001b[1m1/1\u001b[0m \u001b[32m━━━━━━━━━━━━━━━━━━━━\u001b[0m\u001b[37m\u001b[0m \u001b[1m0s\u001b[0m 35ms/step\n"
          ]
        },
        {
          "data": {
            "text/plain": [
              "5"
            ]
          },
          "execution_count": 58,
          "metadata": {},
          "output_type": "execute_result"
        }
      ],
      "source": [
        "np.argmax(model.predict(new))"
      ]
    },
    {
      "cell_type": "code",
      "execution_count": null,
      "id": "659cd7ae-0533-4523-a28d-c2d2180ea9e9",
      "metadata": {
        "id": "659cd7ae-0533-4523-a28d-c2d2180ea9e9",
        "outputId": "8250b460-63c1-4437-bb18-ab3b3e3fd185"
      },
      "outputs": [
        {
          "data": {
            "text/plain": [
              "array([0., 0., 0., 0., 0., 1., 0., 0., 0., 0.])"
            ]
          },
          "execution_count": 59,
          "metadata": {},
          "output_type": "execute_result"
        }
      ],
      "source": [
        " y_test[45]\n"
      ]
    },
    {
      "cell_type": "code",
      "execution_count": null,
      "id": "9162f4b1-0f4e-40bd-a27c-395efe404494",
      "metadata": {
        "id": "9162f4b1-0f4e-40bd-a27c-395efe404494",
        "outputId": "a3516911-b794-487a-dd2a-68c98bb74c18"
      },
      "outputs": [
        {
          "name": "stdout",
          "output_type": "stream",
          "text": [
            "Epoch 1/10\n",
            "\u001b[1m300/300\u001b[0m \u001b[32m━━━━━━━━━━━━━━━━━━━━\u001b[0m\u001b[37m\u001b[0m \u001b[1m1s\u001b[0m 3ms/step - accuracy: 0.9169 - loss: 0.3002 - val_accuracy: 0.9214 - val_loss: 0.2879\n",
            "Epoch 2/10\n",
            "\u001b[1m300/300\u001b[0m \u001b[32m━━━━━━━━━━━━━━━━━━━━\u001b[0m\u001b[37m\u001b[0m \u001b[1m1s\u001b[0m 3ms/step - accuracy: 0.9181 - loss: 0.2948 - val_accuracy: 0.9235 - val_loss: 0.2807\n",
            "Epoch 3/10\n",
            "\u001b[1m300/300\u001b[0m \u001b[32m━━━━━━━━━━━━━━━━━━━━\u001b[0m\u001b[37m\u001b[0m \u001b[1m1s\u001b[0m 3ms/step - accuracy: 0.9199 - loss: 0.2917 - val_accuracy: 0.9249 - val_loss: 0.2756\n",
            "Epoch 4/10\n",
            "\u001b[1m300/300\u001b[0m \u001b[32m━━━━━━━━━━━━━━━━━━━━\u001b[0m\u001b[37m\u001b[0m \u001b[1m2s\u001b[0m 7ms/step - accuracy: 0.9204 - loss: 0.2896 - val_accuracy: 0.9259 - val_loss: 0.2688\n",
            "Epoch 5/10\n",
            "\u001b[1m300/300\u001b[0m \u001b[32m━━━━━━━━━━━━━━━━━━━━\u001b[0m\u001b[37m\u001b[0m \u001b[1m3s\u001b[0m 9ms/step - accuracy: 0.9228 - loss: 0.2835 - val_accuracy: 0.9279 - val_loss: 0.2634\n",
            "Epoch 6/10\n",
            "\u001b[1m300/300\u001b[0m \u001b[32m━━━━━━━━━━━━━━━━━━━━\u001b[0m\u001b[37m\u001b[0m \u001b[1m3s\u001b[0m 9ms/step - accuracy: 0.9254 - loss: 0.2717 - val_accuracy: 0.9293 - val_loss: 0.2585\n",
            "Epoch 7/10\n",
            "\u001b[1m300/300\u001b[0m \u001b[32m━━━━━━━━━━━━━━━━━━━━\u001b[0m\u001b[37m\u001b[0m \u001b[1m3s\u001b[0m 9ms/step - accuracy: 0.9266 - loss: 0.2683 - val_accuracy: 0.9298 - val_loss: 0.2540\n",
            "Epoch 8/10\n",
            "\u001b[1m300/300\u001b[0m \u001b[32m━━━━━━━━━━━━━━━━━━━━\u001b[0m\u001b[37m\u001b[0m \u001b[1m3s\u001b[0m 9ms/step - accuracy: 0.9296 - loss: 0.2587 - val_accuracy: 0.9314 - val_loss: 0.2491\n",
            "Epoch 9/10\n",
            "\u001b[1m300/300\u001b[0m \u001b[32m━━━━━━━━━━━━━━━━━━━━\u001b[0m\u001b[37m\u001b[0m \u001b[1m3s\u001b[0m 9ms/step - accuracy: 0.9298 - loss: 0.2582 - val_accuracy: 0.9321 - val_loss: 0.2457\n",
            "Epoch 10/10\n",
            "\u001b[1m300/300\u001b[0m \u001b[32m━━━━━━━━━━━━━━━━━━━━\u001b[0m\u001b[37m\u001b[0m \u001b[1m3s\u001b[0m 9ms/step - accuracy: 0.9328 - loss: 0.2488 - val_accuracy: 0.9338 - val_loss: 0.2414\n"
          ]
        }
      ],
      "source": [
        " history = model.fit(x_train, y_train, validation_data=(x_test, y_test), epochs=10, batch_size = 200)\n",
        "\n"
      ]
    },
    {
      "cell_type": "code",
      "execution_count": null,
      "id": "2204ce05-247d-426e-bf21-ba0f8d368897",
      "metadata": {
        "id": "2204ce05-247d-426e-bf21-ba0f8d368897",
        "outputId": "6c011374-9409-47fd-c82a-24d455e9f6a2"
      },
      "outputs": [
        {
          "data": {
            "text/plain": [
              "<matplotlib.legend.Legend at 0x13a7c64e0f0>"
            ]
          },
          "execution_count": 62,
          "metadata": {},
          "output_type": "execute_result"
        },
        {
          "data": {
            "image/png": "[encoded data removed]",
            "text/plain": [
              "<Figure size 640x480 with 1 Axes>"
            ]
          },
          "metadata": {},
          "output_type": "display_data"
        }
      ],
      "source": [
        " plt.title('model accuracy')\n",
        " plt.ylabel('accuracy')\n",
        " plt.xlabel('epoch')\n",
        " plt.plot(history.history['accuracy'])\n",
        " plt.plot(history.history['val_accuracy'])\n",
        " plt.legend(['train', 'val'])\n"
      ]
    },
    {
      "cell_type": "code",
      "execution_count": null,
      "id": "83f58753-5862-49a0-8d38-358091fa0345",
      "metadata": {
        "id": "83f58753-5862-49a0-8d38-358091fa0345"
      },
      "outputs": [],
      "source": []
    }
  ],
  "metadata": {
    "kernelspec": {
      "display_name": "Python 3 (ipykernel)",
      "language": "python",
      "name": "python3"
    },
    "language_info": {
      "codemirror_mode": {
        "name": "ipython",
        "version": 3
      },
      "file_extension": ".py",
      "mimetype": "text/x-python",
      "name": "python",
      "nbconvert_exporter": "python",
      "pygments_lexer": "ipython3",
      "version": "3.12.0"
    },
    "colab": {
      "provenance": [],
      "include_colab_link": true
    }
  },
  "nbformat": 4,
  "nbformat_minor": 5
}