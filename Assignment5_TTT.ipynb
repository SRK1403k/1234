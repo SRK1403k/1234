{
  "nbformat": 4,
  "nbformat_minor": 0,
  "metadata": {
    "colab": {
      "provenance": []
    },
    "kernelspec": {
      "name": "python3",
      "display_name": "Python 3"
    },
    "language_info": {
      "name": "python"
    }
  },
  "cells": [
    {
      "cell_type": "code",
      "execution_count": 1,
      "metadata": {
        "id": "d0Z7SYKKGvb1"
      },
      "outputs": [],
      "source": [
        "# Tic-Tac-Toe Program using\n",
        "# random number in Python\n",
        "\n",
        "# importing all necessary libraries\n",
        "import numpy as np\n",
        "import random\n",
        "from time import sleep\n"
      ]
    },
    {
      "cell_type": "code",
      "source": [
        "# Creates an empty board\n",
        "\n",
        "\n",
        "def create_board():\n",
        "    return(np.array([[0, 0, 0],\n",
        "                     [0, 0, 0],\n",
        "                     [0, 0, 0]]))\n"
      ],
      "metadata": {
        "id": "A8i1sw7dG3CF"
      },
      "execution_count": 2,
      "outputs": []
    },
    {
      "cell_type": "code",
      "source": [
        "# Check for empty places on board\n",
        "\n",
        "\n",
        "def possibilities(board):\n",
        "    l = []\n",
        "\n",
        "    for i in range(len(board)):\n",
        "        for j in range(len(board)):\n",
        "\n",
        "            if board[i][j] == 0:\n",
        "                l.append((i, j))\n",
        "    return(l)\n"
      ],
      "metadata": {
        "id": "XRVFuHiaG6-s"
      },
      "execution_count": 3,
      "outputs": []
    },
    {
      "cell_type": "code",
      "source": [
        "# Select a random place for the player\n",
        "\n",
        "\n",
        "def random_place(board, player):\n",
        "    selection = possibilities(board)\n",
        "    current_loc = random.choice(selection)\n",
        "    board[current_loc] = player\n",
        "    return(board)\n"
      ],
      "metadata": {
        "id": "kszUXx4eG90S"
      },
      "execution_count": 4,
      "outputs": []
    },
    {
      "cell_type": "code",
      "source": [
        "# Checks whether the player has three\n",
        "# of their marks in a horizontal row\n",
        "\n",
        "\n",
        "def row_win(board, player):\n",
        "    for x in range(len(board)):\n",
        "        win = True\n",
        "\n",
        "        for y in range(len(board)):\n",
        "            if board[x, y] != player:\n",
        "                win = False\n",
        "                continue\n",
        "\n",
        "        if win == True:\n",
        "            return(win)\n",
        "    return(win)\n"
      ],
      "metadata": {
        "id": "t35Rc_HyHBAr"
      },
      "execution_count": 5,
      "outputs": []
    },
    {
      "cell_type": "code",
      "source": [
        "\n",
        "# Checks whether the player has three\n",
        "# of their marks in a vertical row\n",
        "\n",
        "\n",
        "def col_win(board, player):\n",
        "    for x in range(len(board)):\n",
        "        win = True\n",
        "\n",
        "        for y in range(len(board)):\n",
        "            if board[y][x] != player:\n",
        "                win = False\n",
        "                continue\n",
        "\n",
        "        if win == True:\n",
        "            return(win)\n",
        "    return(win)\n"
      ],
      "metadata": {
        "id": "2be5IPZUHH9z"
      },
      "execution_count": 6,
      "outputs": []
    },
    {
      "cell_type": "code",
      "source": [
        "# Checks whether the player has three\n",
        "# of their marks in a diagonal row\n",
        "\n",
        "\n",
        "def diag_win(board, player):\n",
        "    win = True\n",
        "    y = 0\n",
        "    for x in range(len(board)):\n",
        "        if board[x, x] != player:\n",
        "            win = False\n",
        "    if win:\n",
        "        return win\n",
        "    win = True\n",
        "    if win:\n",
        "        for x in range(len(board)):\n",
        "            y = len(board) - 1 - x\n",
        "            if board[x, y] != player:\n",
        "                win = False\n",
        "    return win\n",
        "\n",
        "# Evaluates whether there is\n",
        "# a winner or a tie\n",
        "\n",
        "\n",
        "def evaluate(board):\n",
        "    winner = 0\n",
        "\n",
        "    for player in [1, 2]:\n",
        "        if (row_win(board, player) or\n",
        "                col_win(board, player) or\n",
        "                diag_win(board, player)):\n",
        "\n",
        "            winner = player\n",
        "\n",
        "    if np.all(board != 0) and winner == 0:\n",
        "        winner = -1\n",
        "    return winner\n"
      ],
      "metadata": {
        "id": "a6HwUCNpHLdT"
      },
      "execution_count": 7,
      "outputs": []
    },
    {
      "cell_type": "code",
      "source": [
        "# Main function to start the game\n",
        "\n",
        "\n",
        "def play_game():\n",
        "    board, winner, counter = create_board(), 0, 1\n",
        "    print(board)\n",
        "    sleep(2)\n",
        "\n",
        "    while winner == 0:\n",
        "        for player in [1, 2]:\n",
        "            board = random_place(board, player)\n",
        "            print(\"Board after \" + str(counter) + \" move\")\n",
        "            print(board)\n",
        "            sleep(2)\n",
        "            counter += 1\n",
        "            winner = evaluate(board)\n",
        "            if winner != 0:\n",
        "                break\n",
        "    return(winner)\n"
      ],
      "metadata": {
        "id": "jKM8RPrEHZIe"
      },
      "execution_count": 8,
      "outputs": []
    },
    {
      "cell_type": "code",
      "source": [
        "# Driver Code\n",
        "print(\"Winner is: \" + str(play_game()))\n"
      ],
      "metadata": {
        "colab": {
          "base_uri": "https://localhost:8080/"
        },
        "id": "Hp3AQJ84HWEx",
        "outputId": "31430ae1-6840-422f-dc77-b2993f69f986"
      },
      "execution_count": 9,
      "outputs": [
        {
          "output_type": "stream",
          "name": "stdout",
          "text": [
            "[[0 0 0]\n",
            " [0 0 0]\n",
            " [0 0 0]]\n",
            "Board after 1 move\n",
            "[[0 0 0]\n",
            " [0 0 1]\n",
            " [0 0 0]]\n",
            "Board after 2 move\n",
            "[[0 0 0]\n",
            " [0 0 1]\n",
            " [0 0 2]]\n",
            "Board after 3 move\n",
            "[[0 0 0]\n",
            " [0 0 1]\n",
            " [1 0 2]]\n",
            "Board after 4 move\n",
            "[[2 0 0]\n",
            " [0 0 1]\n",
            " [1 0 2]]\n",
            "Board after 5 move\n",
            "[[2 0 1]\n",
            " [0 0 1]\n",
            " [1 0 2]]\n",
            "Board after 6 move\n",
            "[[2 0 1]\n",
            " [0 0 1]\n",
            " [1 2 2]]\n",
            "Board after 7 move\n",
            "[[2 0 1]\n",
            " [1 0 1]\n",
            " [1 2 2]]\n",
            "Board after 8 move\n",
            "[[2 0 1]\n",
            " [1 2 1]\n",
            " [1 2 2]]\n",
            "Winner is: 2\n"
          ]
        }
      ]
    },
    {
      "cell_type": "code",
      "source": [],
      "metadata": {
        "id": "nkWqViAGHcrm"
      },
      "execution_count": null,
      "outputs": []
    }
  ]
}