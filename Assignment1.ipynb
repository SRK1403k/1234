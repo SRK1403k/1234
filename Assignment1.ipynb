{
  "nbformat": 4,
  "nbformat_minor": 0,
  "metadata": {
    "colab": {
      "provenance": []
    },
    "kernelspec": {
      "name": "python3",
      "display_name": "Python 3"
    },
    "language_info": {
      "name": "python"
    }
  },
  "cells": [
    {
      "cell_type": "code",
      "execution_count": 1,
      "metadata": {
        "id": "ObUCpQ7NCXT-"
      },
      "outputs": [],
      "source": [
        "# Python3 program to implement traveling salesman\n",
        "# problem using naive approach.\n",
        "from sys import maxsize\n",
        "from itertools import permutations\n",
        "V = 4\n"
      ]
    },
    {
      "cell_type": "code",
      "source": [
        "# implementation of traveling Salesman Problem\n",
        "def travellingSalesmanProblem(graph, s):\n",
        "\n",
        "    # store all vertex apart from source vertex\n",
        "    vertex = []\n",
        "    for i in range(V):\n",
        "        if i != s:\n",
        "            vertex.append(i)\n",
        " # store minimum weight Hamiltonian Cycle\n",
        "    min_path = maxsize\n",
        "    next_permutation=permutations(vertex)\n",
        "    for i in next_permutation:\n",
        "\n",
        "        # store current Path weight(cost)\n",
        "        current_pathweight = 0\n",
        "\n",
        "        # compute current path weight\n",
        "        k = s\n",
        "        for j in i:\n",
        "            current_pathweight += graph[k][j]\n",
        "            k = j\n",
        "        current_pathweight += graph[k][s]\n",
        "  # update minimum\n",
        "        min_path = min(min_path, current_pathweight)\n",
        "\n",
        "    return min_path\n",
        "\n"
      ],
      "metadata": {
        "id": "5J8utHSECdgV"
      },
      "execution_count": 5,
      "outputs": []
    },
    {
      "cell_type": "code",
      "source": [
        "# Driver Code\n",
        "if __name__ == \"__main__\":\n",
        "\n",
        "    # matrix representation of graph\n",
        "    graph = [[0, 10, 15, 20], [10, 0, 35, 25],\n",
        "            [15, 35, 0, 30], [20, 25, 30, 0]]\n",
        "    s = 0\n",
        "    print(travellingSalesmanProblem(graph, s))\n",
        "\n",
        "\n"
      ],
      "metadata": {
        "colab": {
          "base_uri": "https://localhost:8080/"
        },
        "id": "IrMnku8SCnG4",
        "outputId": "bd8e8b6e-7967-4da9-b5d0-905372b5fdb2"
      },
      "execution_count": 6,
      "outputs": [
        {
          "output_type": "stream",
          "name": "stdout",
          "text": [
            "80\n"
          ]
        }
      ]
    },
    {
      "cell_type": "code",
      "source": [],
      "metadata": {
        "id": "1-8DAs5uCtzI"
      },
      "execution_count": null,
      "outputs": []
    }
  ]
}