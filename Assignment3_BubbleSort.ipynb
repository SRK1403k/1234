{
  "nbformat": 4,
  "nbformat_minor": 0,
  "metadata": {
    "colab": {
      "provenance": []
    },
    "kernelspec": {
      "name": "python3",
      "display_name": "Python 3"
    },
    "language_info": {
      "name": "python"
    }
  },
  "cells": [
    {
      "cell_type": "code",
      "execution_count": 1,
      "metadata": {
        "id": "pQZA8Lu7GC6U"
      },
      "outputs": [],
      "source": [
        "# Python3 program for Bubble Sort Algorithm Implementation\n",
        "def bubbleSort(arr):\n",
        "\n",
        "\tn = len(arr)\n",
        "\n",
        "\t# For loop to traverse through all\n",
        "\t# element in an array\n",
        "\tfor i in range(n):\n",
        "\t\tfor j in range(0, n - i - 1):\n",
        "\n",
        "\t\t\t# Range of the array is from 0 to n-i-1\n",
        "\t\t\t# Swap the elements if the element found\n",
        "\t\t\t#is greater than the adjacent element\n",
        "\t\t\tif arr[j] > arr[j + 1]:\n",
        "\t\t\t\tarr[j], arr[j + 1] = arr[j + 1], arr[j]\n",
        "\n"
      ]
    },
    {
      "cell_type": "code",
      "source": [
        "# Driver code\n",
        "\n",
        "# Example to test the above code\n",
        "arr = [ 2, 1, 10, 23 ]\n",
        "\n",
        "bubbleSort(arr)\n",
        "\n",
        "print(\"Sorted array is:\")\n",
        "for i in range(len(arr)):\n",
        "\tprint(\"%d\" % arr[i])\n"
      ],
      "metadata": {
        "colab": {
          "base_uri": "https://localhost:8080/"
        },
        "id": "wxo9WUWeGMr2",
        "outputId": "07e4f6d2-2bd9-46e8-dd38-a906951a26c2"
      },
      "execution_count": 2,
      "outputs": [
        {
          "output_type": "stream",
          "name": "stdout",
          "text": [
            "Sorted array is:\n",
            "1\n",
            "2\n",
            "10\n",
            "23\n"
          ]
        }
      ]
    },
    {
      "cell_type": "code",
      "source": [],
      "metadata": {
        "id": "p5_Nx4X8GXG1"
      },
      "execution_count": null,
      "outputs": []
    }
  ]
}